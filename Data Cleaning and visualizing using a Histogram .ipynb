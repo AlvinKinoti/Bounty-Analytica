{
 "cells": [
  {
   "cell_type": "code",
   "execution_count": 17,
   "id": "f0a34e58",
   "metadata": {},
   "outputs": [],
   "source": [
    "import numpy as np\n",
    "import pandas as pd\n",
    "import matplotlib.pyplot as plt\n",
    "import seaborn as sns\n",
    "\n",
    "%matplotlib inline"
   ]
  },
  {
   "cell_type": "code",
   "execution_count": 3,
   "id": "258fd98b",
   "metadata": {},
   "outputs": [
    {
     "name": "stdout",
     "output_type": "stream",
     "text": [
      "     exercise_type  duration  calories_burned  heart_rate        date\n",
      "0         swimming     50.32            72.07         102   10/5/2022\n",
      "1    weightlifting     22.83           769.04          66   9/26/2022\n",
      "2    weightlifting     57.46           881.98         184   2/15/2022\n",
      "3         swimming     99.46           828.50          94   3/29/2022\n",
      "4         swimming    104.12           449.35         198   8/31/2022\n",
      "..             ...       ...              ...         ...         ...\n",
      "97        swimming    112.25           838.28         165         NaN\n",
      "98            yoga     86.70           677.24         159    1/7/2022\n",
      "99         running     60.85           782.43          59  12/29/2022\n",
      "100        running     65.46           640.60         196   3/17/2022\n",
      "101           yoga     64.75           601.88         130   6/22/2022\n",
      "\n",
      "[102 rows x 5 columns]\n"
     ]
    }
   ],
   "source": [
    "df = pd.read_csv(\"Exercises_data.csv\")\n",
    "print(df)"
   ]
  },
  {
   "cell_type": "code",
   "execution_count": 4,
   "id": "607037d9",
   "metadata": {},
   "outputs": [
    {
     "data": {
      "text/plain": [
       "(102, 5)"
      ]
     },
     "execution_count": 4,
     "metadata": {},
     "output_type": "execute_result"
    }
   ],
   "source": [
    "df.shape"
   ]
  },
  {
   "cell_type": "code",
   "execution_count": 5,
   "id": "9ba837ec",
   "metadata": {},
   "outputs": [
    {
     "name": "stdout",
     "output_type": "stream",
     "text": [
      "<class 'pandas.core.frame.DataFrame'>\n",
      "RangeIndex: 102 entries, 0 to 101\n",
      "Data columns (total 5 columns):\n",
      " #   Column           Non-Null Count  Dtype  \n",
      "---  ------           --------------  -----  \n",
      " 0   exercise_type    102 non-null    object \n",
      " 1   duration         102 non-null    float64\n",
      " 2   calories_burned  102 non-null    float64\n",
      " 3   heart_rate       102 non-null    int64  \n",
      " 4   date             92 non-null     object \n",
      "dtypes: float64(2), int64(1), object(2)\n",
      "memory usage: 4.1+ KB\n"
     ]
    }
   ],
   "source": [
    "df.info()"
   ]
  },
  {
   "cell_type": "code",
   "execution_count": 6,
   "id": "e45b8fb9",
   "metadata": {},
   "outputs": [
    {
     "data": {
      "text/plain": [
       "exercise_type       0\n",
       "duration            0\n",
       "calories_burned     0\n",
       "heart_rate          0\n",
       "date               10\n",
       "dtype: int64"
      ]
     },
     "execution_count": 6,
     "metadata": {},
     "output_type": "execute_result"
    }
   ],
   "source": [
    "df.isnull().sum()"
   ]
  },
  {
   "cell_type": "code",
   "execution_count": 7,
   "id": "4f61b6b2",
   "metadata": {},
   "outputs": [
    {
     "data": {
      "text/plain": [
       "0      False\n",
       "1      False\n",
       "2      False\n",
       "3      False\n",
       "4      False\n",
       "       ...  \n",
       "97     False\n",
       "98     False\n",
       "99     False\n",
       "100    False\n",
       "101    False\n",
       "Length: 102, dtype: bool"
      ]
     },
     "execution_count": 7,
     "metadata": {},
     "output_type": "execute_result"
    }
   ],
   "source": [
    "df.duplicated()"
   ]
  },
  {
   "cell_type": "code",
   "execution_count": 8,
   "id": "37a73a18",
   "metadata": {},
   "outputs": [
    {
     "data": {
      "text/html": [
       "<div>\n",
       "<style scoped>\n",
       "    .dataframe tbody tr th:only-of-type {\n",
       "        vertical-align: middle;\n",
       "    }\n",
       "\n",
       "    .dataframe tbody tr th {\n",
       "        vertical-align: top;\n",
       "    }\n",
       "\n",
       "    .dataframe thead th {\n",
       "        text-align: right;\n",
       "    }\n",
       "</style>\n",
       "<table border=\"1\" class=\"dataframe\">\n",
       "  <thead>\n",
       "    <tr style=\"text-align: right;\">\n",
       "      <th></th>\n",
       "      <th>exercise_type</th>\n",
       "      <th>duration</th>\n",
       "      <th>calories_burned</th>\n",
       "      <th>heart_rate</th>\n",
       "      <th>date</th>\n",
       "    </tr>\n",
       "  </thead>\n",
       "  <tbody>\n",
       "    <tr>\n",
       "      <th>0</th>\n",
       "      <td>swimming</td>\n",
       "      <td>50.32</td>\n",
       "      <td>72.07</td>\n",
       "      <td>102</td>\n",
       "      <td>10/5/2022</td>\n",
       "    </tr>\n",
       "    <tr>\n",
       "      <th>1</th>\n",
       "      <td>weightlifting</td>\n",
       "      <td>22.83</td>\n",
       "      <td>769.04</td>\n",
       "      <td>66</td>\n",
       "      <td>9/26/2022</td>\n",
       "    </tr>\n",
       "    <tr>\n",
       "      <th>2</th>\n",
       "      <td>weightlifting</td>\n",
       "      <td>57.46</td>\n",
       "      <td>881.98</td>\n",
       "      <td>184</td>\n",
       "      <td>2/15/2022</td>\n",
       "    </tr>\n",
       "    <tr>\n",
       "      <th>3</th>\n",
       "      <td>swimming</td>\n",
       "      <td>99.46</td>\n",
       "      <td>828.50</td>\n",
       "      <td>94</td>\n",
       "      <td>3/29/2022</td>\n",
       "    </tr>\n",
       "    <tr>\n",
       "      <th>4</th>\n",
       "      <td>swimming</td>\n",
       "      <td>104.12</td>\n",
       "      <td>449.35</td>\n",
       "      <td>198</td>\n",
       "      <td>8/31/2022</td>\n",
       "    </tr>\n",
       "  </tbody>\n",
       "</table>\n",
       "</div>"
      ],
      "text/plain": [
       "   exercise_type  duration  calories_burned  heart_rate       date\n",
       "0       swimming     50.32            72.07         102  10/5/2022\n",
       "1  weightlifting     22.83           769.04          66  9/26/2022\n",
       "2  weightlifting     57.46           881.98         184  2/15/2022\n",
       "3       swimming     99.46           828.50          94  3/29/2022\n",
       "4       swimming    104.12           449.35         198  8/31/2022"
      ]
     },
     "execution_count": 8,
     "metadata": {},
     "output_type": "execute_result"
    }
   ],
   "source": [
    "df.head()"
   ]
  },
  {
   "cell_type": "code",
   "execution_count": 9,
   "id": "ee40b16f",
   "metadata": {},
   "outputs": [
    {
     "data": {
      "text/html": [
       "<div>\n",
       "<style scoped>\n",
       "    .dataframe tbody tr th:only-of-type {\n",
       "        vertical-align: middle;\n",
       "    }\n",
       "\n",
       "    .dataframe tbody tr th {\n",
       "        vertical-align: top;\n",
       "    }\n",
       "\n",
       "    .dataframe thead th {\n",
       "        text-align: right;\n",
       "    }\n",
       "</style>\n",
       "<table border=\"1\" class=\"dataframe\">\n",
       "  <thead>\n",
       "    <tr style=\"text-align: right;\">\n",
       "      <th></th>\n",
       "      <th>exercise_type</th>\n",
       "      <th>duration</th>\n",
       "      <th>calories_burned</th>\n",
       "      <th>heart_rate</th>\n",
       "      <th>date</th>\n",
       "    </tr>\n",
       "  </thead>\n",
       "  <tbody>\n",
       "    <tr>\n",
       "      <th>82</th>\n",
       "      <td>swimming</td>\n",
       "      <td>75.76</td>\n",
       "      <td>823.98</td>\n",
       "      <td>105</td>\n",
       "      <td>12/22/2022</td>\n",
       "    </tr>\n",
       "    <tr>\n",
       "      <th>83</th>\n",
       "      <td>weightlifting</td>\n",
       "      <td>36.27</td>\n",
       "      <td>55.16</td>\n",
       "      <td>150</td>\n",
       "      <td>8/12/2022</td>\n",
       "    </tr>\n",
       "    <tr>\n",
       "      <th>84</th>\n",
       "      <td>swimming</td>\n",
       "      <td>60.36</td>\n",
       "      <td>196.49</td>\n",
       "      <td>200</td>\n",
       "      <td>NaN</td>\n",
       "    </tr>\n",
       "    <tr>\n",
       "      <th>85</th>\n",
       "      <td>cycling</td>\n",
       "      <td>46.51</td>\n",
       "      <td>805.25</td>\n",
       "      <td>108</td>\n",
       "      <td>2/24/2022</td>\n",
       "    </tr>\n",
       "    <tr>\n",
       "      <th>86</th>\n",
       "      <td>swimming</td>\n",
       "      <td>43.79</td>\n",
       "      <td>844.03</td>\n",
       "      <td>61</td>\n",
       "      <td>3/29/2022</td>\n",
       "    </tr>\n",
       "    <tr>\n",
       "      <th>87</th>\n",
       "      <td>cycling</td>\n",
       "      <td>22.61</td>\n",
       "      <td>947.87</td>\n",
       "      <td>75</td>\n",
       "      <td>1/15/2022</td>\n",
       "    </tr>\n",
       "    <tr>\n",
       "      <th>88</th>\n",
       "      <td>weightlifting</td>\n",
       "      <td>66.36</td>\n",
       "      <td>942.95</td>\n",
       "      <td>192</td>\n",
       "      <td>12/18/2022</td>\n",
       "    </tr>\n",
       "    <tr>\n",
       "      <th>89</th>\n",
       "      <td>running</td>\n",
       "      <td>119.93</td>\n",
       "      <td>857.49</td>\n",
       "      <td>157</td>\n",
       "      <td>7/26/2022</td>\n",
       "    </tr>\n",
       "    <tr>\n",
       "      <th>90</th>\n",
       "      <td>swimming</td>\n",
       "      <td>80.16</td>\n",
       "      <td>762.86</td>\n",
       "      <td>149</td>\n",
       "      <td>6/7/2022</td>\n",
       "    </tr>\n",
       "    <tr>\n",
       "      <th>91</th>\n",
       "      <td>swimming</td>\n",
       "      <td>117.16</td>\n",
       "      <td>688.93</td>\n",
       "      <td>177</td>\n",
       "      <td>9/10/2022</td>\n",
       "    </tr>\n",
       "    <tr>\n",
       "      <th>92</th>\n",
       "      <td>weightlifting</td>\n",
       "      <td>116.24</td>\n",
       "      <td>535.46</td>\n",
       "      <td>71</td>\n",
       "      <td>2/5/2022</td>\n",
       "    </tr>\n",
       "    <tr>\n",
       "      <th>93</th>\n",
       "      <td>running</td>\n",
       "      <td>28.64</td>\n",
       "      <td>904.85</td>\n",
       "      <td>75</td>\n",
       "      <td>11/29/2022</td>\n",
       "    </tr>\n",
       "    <tr>\n",
       "      <th>94</th>\n",
       "      <td>cycling</td>\n",
       "      <td>36.14</td>\n",
       "      <td>431.73</td>\n",
       "      <td>62</td>\n",
       "      <td>9/10/2022</td>\n",
       "    </tr>\n",
       "    <tr>\n",
       "      <th>95</th>\n",
       "      <td>yoga</td>\n",
       "      <td>19.35</td>\n",
       "      <td>967.88</td>\n",
       "      <td>66</td>\n",
       "      <td>7/18/2022</td>\n",
       "    </tr>\n",
       "    <tr>\n",
       "      <th>96</th>\n",
       "      <td>swimming</td>\n",
       "      <td>20.47</td>\n",
       "      <td>706.03</td>\n",
       "      <td>77</td>\n",
       "      <td>2/7/2022</td>\n",
       "    </tr>\n",
       "    <tr>\n",
       "      <th>97</th>\n",
       "      <td>swimming</td>\n",
       "      <td>112.25</td>\n",
       "      <td>838.28</td>\n",
       "      <td>165</td>\n",
       "      <td>NaN</td>\n",
       "    </tr>\n",
       "    <tr>\n",
       "      <th>98</th>\n",
       "      <td>yoga</td>\n",
       "      <td>86.70</td>\n",
       "      <td>677.24</td>\n",
       "      <td>159</td>\n",
       "      <td>1/7/2022</td>\n",
       "    </tr>\n",
       "    <tr>\n",
       "      <th>99</th>\n",
       "      <td>running</td>\n",
       "      <td>60.85</td>\n",
       "      <td>782.43</td>\n",
       "      <td>59</td>\n",
       "      <td>12/29/2022</td>\n",
       "    </tr>\n",
       "    <tr>\n",
       "      <th>100</th>\n",
       "      <td>running</td>\n",
       "      <td>65.46</td>\n",
       "      <td>640.60</td>\n",
       "      <td>196</td>\n",
       "      <td>3/17/2022</td>\n",
       "    </tr>\n",
       "    <tr>\n",
       "      <th>101</th>\n",
       "      <td>yoga</td>\n",
       "      <td>64.75</td>\n",
       "      <td>601.88</td>\n",
       "      <td>130</td>\n",
       "      <td>6/22/2022</td>\n",
       "    </tr>\n",
       "  </tbody>\n",
       "</table>\n",
       "</div>"
      ],
      "text/plain": [
       "     exercise_type  duration  calories_burned  heart_rate        date\n",
       "82        swimming     75.76           823.98         105  12/22/2022\n",
       "83   weightlifting     36.27            55.16         150   8/12/2022\n",
       "84        swimming     60.36           196.49         200         NaN\n",
       "85         cycling     46.51           805.25         108   2/24/2022\n",
       "86        swimming     43.79           844.03          61   3/29/2022\n",
       "87         cycling     22.61           947.87          75   1/15/2022\n",
       "88   weightlifting     66.36           942.95         192  12/18/2022\n",
       "89         running    119.93           857.49         157   7/26/2022\n",
       "90        swimming     80.16           762.86         149    6/7/2022\n",
       "91        swimming    117.16           688.93         177   9/10/2022\n",
       "92   weightlifting    116.24           535.46          71    2/5/2022\n",
       "93         running     28.64           904.85          75  11/29/2022\n",
       "94         cycling     36.14           431.73          62   9/10/2022\n",
       "95            yoga     19.35           967.88          66   7/18/2022\n",
       "96        swimming     20.47           706.03          77    2/7/2022\n",
       "97        swimming    112.25           838.28         165         NaN\n",
       "98            yoga     86.70           677.24         159    1/7/2022\n",
       "99         running     60.85           782.43          59  12/29/2022\n",
       "100        running     65.46           640.60         196   3/17/2022\n",
       "101           yoga     64.75           601.88         130   6/22/2022"
      ]
     },
     "execution_count": 9,
     "metadata": {},
     "output_type": "execute_result"
    }
   ],
   "source": [
    "df.tail(20)"
   ]
  },
  {
   "cell_type": "code",
   "execution_count": 11,
   "id": "e84a343c",
   "metadata": {},
   "outputs": [],
   "source": [
    "df[\"date\"] = df[\"date\"].fillna(method = \"ffill\")"
   ]
  },
  {
   "cell_type": "code",
   "execution_count": 12,
   "id": "3a576c88",
   "metadata": {},
   "outputs": [
    {
     "name": "stdout",
     "output_type": "stream",
     "text": [
      "     exercise_type  duration  calories_burned  heart_rate        date\n",
      "0         swimming     50.32            72.07         102   10/5/2022\n",
      "1    weightlifting     22.83           769.04          66   9/26/2022\n",
      "2    weightlifting     57.46           881.98         184   2/15/2022\n",
      "3         swimming     99.46           828.50          94   3/29/2022\n",
      "4         swimming    104.12           449.35         198   8/31/2022\n",
      "..             ...       ...              ...         ...         ...\n",
      "97        swimming    112.25           838.28         165    2/7/2022\n",
      "98            yoga     86.70           677.24         159    1/7/2022\n",
      "99         running     60.85           782.43          59  12/29/2022\n",
      "100        running     65.46           640.60         196   3/17/2022\n",
      "101           yoga     64.75           601.88         130   6/22/2022\n",
      "\n",
      "[102 rows x 5 columns]\n"
     ]
    }
   ],
   "source": [
    "print(df)"
   ]
  },
  {
   "cell_type": "code",
   "execution_count": 13,
   "id": "8e1a4bcd",
   "metadata": {},
   "outputs": [
    {
     "data": {
      "text/plain": [
       "exercise_type      0\n",
       "duration           0\n",
       "calories_burned    0\n",
       "heart_rate         0\n",
       "date               0\n",
       "dtype: int64"
      ]
     },
     "execution_count": 13,
     "metadata": {},
     "output_type": "execute_result"
    }
   ],
   "source": [
    "df.isnull().sum()"
   ]
  },
  {
   "cell_type": "code",
   "execution_count": 15,
   "id": "e5564833",
   "metadata": {},
   "outputs": [
    {
     "data": {
      "text/plain": [
       "2"
      ]
     },
     "execution_count": 15,
     "metadata": {},
     "output_type": "execute_result"
    }
   ],
   "source": [
    "df.duplicated().sum()"
   ]
  },
  {
   "cell_type": "code",
   "execution_count": 16,
   "id": "304b0e03",
   "metadata": {},
   "outputs": [
    {
     "data": {
      "text/plain": [
       "0      False\n",
       "1      False\n",
       "2      False\n",
       "3      False\n",
       "4      False\n",
       "       ...  \n",
       "97     False\n",
       "98     False\n",
       "99     False\n",
       "100    False\n",
       "101    False\n",
       "Length: 102, dtype: bool"
      ]
     },
     "execution_count": 16,
     "metadata": {},
     "output_type": "execute_result"
    }
   ],
   "source": [
    "df.duplicated(keep = \"last\")"
   ]
  },
  {
   "cell_type": "code",
   "execution_count": 18,
   "id": "df0c2a13",
   "metadata": {},
   "outputs": [
    {
     "data": {
      "text/html": [
       "<div>\n",
       "<style scoped>\n",
       "    .dataframe tbody tr th:only-of-type {\n",
       "        vertical-align: middle;\n",
       "    }\n",
       "\n",
       "    .dataframe tbody tr th {\n",
       "        vertical-align: top;\n",
       "    }\n",
       "\n",
       "    .dataframe thead th {\n",
       "        text-align: right;\n",
       "    }\n",
       "</style>\n",
       "<table border=\"1\" class=\"dataframe\">\n",
       "  <thead>\n",
       "    <tr style=\"text-align: right;\">\n",
       "      <th></th>\n",
       "      <th>exercise_type</th>\n",
       "      <th>duration</th>\n",
       "      <th>calories_burned</th>\n",
       "      <th>heart_rate</th>\n",
       "      <th>date</th>\n",
       "    </tr>\n",
       "  </thead>\n",
       "  <tbody>\n",
       "    <tr>\n",
       "      <th>0</th>\n",
       "      <td>swimming</td>\n",
       "      <td>50.32</td>\n",
       "      <td>72.07</td>\n",
       "      <td>102</td>\n",
       "      <td>10/5/2022</td>\n",
       "    </tr>\n",
       "    <tr>\n",
       "      <th>1</th>\n",
       "      <td>weightlifting</td>\n",
       "      <td>22.83</td>\n",
       "      <td>769.04</td>\n",
       "      <td>66</td>\n",
       "      <td>9/26/2022</td>\n",
       "    </tr>\n",
       "    <tr>\n",
       "      <th>2</th>\n",
       "      <td>weightlifting</td>\n",
       "      <td>57.46</td>\n",
       "      <td>881.98</td>\n",
       "      <td>184</td>\n",
       "      <td>2/15/2022</td>\n",
       "    </tr>\n",
       "  </tbody>\n",
       "</table>\n",
       "</div>"
      ],
      "text/plain": [
       "   exercise_type  duration  calories_burned  heart_rate       date\n",
       "0       swimming     50.32            72.07         102  10/5/2022\n",
       "1  weightlifting     22.83           769.04          66  9/26/2022\n",
       "2  weightlifting     57.46           881.98         184  2/15/2022"
      ]
     },
     "execution_count": 18,
     "metadata": {},
     "output_type": "execute_result"
    }
   ],
   "source": [
    "df.head(3)"
   ]
  },
  {
   "cell_type": "code",
   "execution_count": 19,
   "id": "e37cf5c4",
   "metadata": {},
   "outputs": [
    {
     "name": "stderr",
     "output_type": "stream",
     "text": [
      "No artists with labels found to put in legend.  Note that artists whose label start with an underscore are ignored when legend() is called with no argument.\n"
     ]
    },
    {
     "data": {
      "image/png": "[encoded data removed]",
      "text/plain": [
       "<Figure size 640x480 with 1 Axes>"
      ]
     },
     "metadata": {},
     "output_type": "display_data"
    }
   ],
   "source": [
    "plt.hist(df[\"heart_rate\"], color = \"steelblue\", edgecolor = \"green\")\n",
    "plt.title(\"Heart Rate\")\n",
    "\n",
    "plt.legend()\n",
    "plt.show()"
   ]
  },
  {
   "cell_type": "code",
   "execution_count": 20,
   "id": "a317cb59",
   "metadata": {},
   "outputs": [
    {
     "ename": "NameError",
     "evalue": "name 'fig' is not defined",
     "output_type": "error",
     "traceback": [
      "\u001b[1;31m---------------------------------------------------------------------------\u001b[0m",
      "\u001b[1;31mNameError\u001b[0m                                 Traceback (most recent call last)",
      "Cell \u001b[1;32mIn[20], line 1\u001b[0m\n\u001b[1;32m----> 1\u001b[0m fig\u001b[38;5;241m.\u001b[39msavefig(\u001b[38;5;124m\"\u001b[39m\u001b[38;5;124mheart_rate.png\u001b[39m\u001b[38;5;124m\"\u001b[39m)\n",
      "\u001b[1;31mNameError\u001b[0m: name 'fig' is not defined"
     ]
    }
   ],
   "source": [
    "fig.savefig(\"heart_rate.png\")"
   ]
  },
  {
   "cell_type": "code",
   "execution_count": null,
   "id": "010cd0f0",
   "metadata": {},
   "outputs": [],
   "source": []
  }
 ],
 "metadata": {
  "kernelspec": {
   "display_name": "Python 3 (ipykernel)",
   "language": "python",
   "name": "python3"
  },
  "language_info": {
   "codemirror_mode": {
    "name": "ipython",
    "version": 3
   },
   "file_extension": ".py",
   "mimetype": "text/x-python",
   "name": "python",
   "nbconvert_exporter": "python",
   "pygments_lexer": "ipython3",
   "version": "3.11.4"
  }
 },
 "nbformat": 4,
 "nbformat_minor": 5
}
