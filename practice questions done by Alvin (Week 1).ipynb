{
 "cells": [
  {
   "cell_type": "code",
   "execution_count": null,
   "id": "83d628f1",
   "metadata": {},
   "outputs": [],
   "source": [
    "# Alvin(kinotialvin07@gmail.com)"
   ]
  },
  {
   "cell_type": "code",
   "execution_count": 17,
   "id": "b4361843",
   "metadata": {},
   "outputs": [
    {
     "name": "stdout",
     "output_type": "stream",
     "text": [
      "44.0 66.0\n"
     ]
    }
   ],
   "source": [
    "\n",
    "# Convert the values of x and y  from pounds to kilogram?\n",
    "\n",
    "x = 20\n",
    "y = 30\n",
    "#1pound = 2.2 kilograms\n",
    "\n",
    "x = x * 2.2  \n",
    "y = y * 2.2  \n",
    "\n",
    "print(x, y)\n"
   ]
  },
  {
   "cell_type": "code",
   "execution_count": 15,
   "id": "352413fd",
   "metadata": {},
   "outputs": [
    {
     "name": "stdout",
     "output_type": "stream",
     "text": [
      "Odd\n"
     ]
    }
   ],
   "source": [
    "# Write a program to check if a number is even or odd?\n",
    "e = 2\n",
    "f = 3\n",
    "\n",
    "if ((e + f) % 2) == 0:\n",
    "    print(\"Even\") \n",
    "else:\n",
    "    print(\"Odd\")"
   ]
  },
  {
   "cell_type": "code",
   "execution_count": 2,
   "id": "3168ed67",
   "metadata": {},
   "outputs": [
    {
     "data": {
      "text/plain": [
       "6"
      ]
     },
     "execution_count": 2,
     "metadata": {},
     "output_type": "execute_result"
    }
   ],
   "source": [
    "# Write a python program to find sum of three variables?\n",
    "a = 1\n",
    "b = 2 \n",
    "c = 3\n",
    "\n",
    "a + b + c"
   ]
  },
  {
   "cell_type": "code",
   "execution_count": 3,
   "id": "ad30b27a",
   "metadata": {},
   "outputs": [
    {
     "data": {
      "text/plain": [
       "2.0"
      ]
     },
     "execution_count": 3,
     "metadata": {},
     "output_type": "execute_result"
    }
   ],
   "source": [
    "# Write a python program to find average of 3 variables?\n",
    "\n",
    "(a + b + c)/3"
   ]
  },
  {
   "cell_type": "code",
   "execution_count": 5,
   "id": "80e20277",
   "metadata": {},
   "outputs": [
    {
     "data": {
      "text/plain": [
       "1"
      ]
     },
     "execution_count": 5,
     "metadata": {},
     "output_type": "execute_result"
    }
   ],
   "source": [
    "# Find the difference between two variables? \n",
    "\n",
    "b - a"
   ]
  },
  {
   "cell_type": "code",
   "execution_count": null,
   "id": "acc88457",
   "metadata": {},
   "outputs": [],
   "source": []
  }
 ],
 "metadata": {
  "kernelspec": {
   "display_name": "Python 3 (ipykernel)",
   "language": "python",
   "name": "python3"
  },
  "language_info": {
   "codemirror_mode": {
    "name": "ipython",
    "version": 3
   },
   "file_extension": ".py",
   "mimetype": "text/x-python",
   "name": "python",
   "nbconvert_exporter": "python",
   "pygments_lexer": "ipython3",
   "version": "3.11.4"
  }
 },
 "nbformat": 4,
 "nbformat_minor": 5
}
